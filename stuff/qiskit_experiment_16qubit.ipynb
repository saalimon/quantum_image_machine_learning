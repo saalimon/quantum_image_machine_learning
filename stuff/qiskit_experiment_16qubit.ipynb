{
  "cells": [
    {
      "cell_type": "code",
      "execution_count": 1,
      "metadata": {
        "colab": {
          "base_uri": "https://localhost:8080/"
        },
        "id": "2pszem_SpaHl",
        "outputId": "345345b0-6674-407e-816a-be47146c6289"
      },
      "outputs": [
        {
          "name": "stdout",
          "output_type": "stream",
          "text": [
            "\u001b[K     |████████████████████████████████| 6.1 MB 3.4 MB/s \n",
            "\u001b[K     |████████████████████████████████| 17.9 MB 112 kB/s \n",
            "\u001b[K     |████████████████████████████████| 236 kB 61.0 MB/s \n",
            "\u001b[K     |████████████████████████████████| 207 kB 51.6 MB/s \n",
            "\u001b[K     |████████████████████████████████| 2.1 MB 48.6 MB/s \n",
            "\u001b[K     |████████████████████████████████| 1.4 MB 37.8 MB/s \n",
            "\u001b[K     |████████████████████████████████| 634 kB 23.4 MB/s \n",
            "\u001b[K     |████████████████████████████████| 52 kB 1.3 MB/s \n",
            "\u001b[K     |████████████████████████████████| 38.2 MB 19 kB/s \n",
            "\u001b[K     |████████████████████████████████| 49 kB 5.4 MB/s \n",
            "\u001b[K     |████████████████████████████████| 943 kB 41.1 MB/s \n",
            "\u001b[K     |████████████████████████████████| 3.5 MB 35.5 MB/s \n",
            "\u001b[K     |████████████████████████████████| 6.3 MB 34.4 MB/s \n",
            "\u001b[?25h  Building wheel for qiskit (setup.py) ... \u001b[?25l\u001b[?25hdone\n",
            "  Building wheel for dlx (setup.py) ... \u001b[?25l\u001b[?25hdone\n",
            "  Building wheel for docplex (setup.py) ... \u001b[?25l\u001b[?25hdone\n",
            "  Building wheel for python-constraint (setup.py) ... \u001b[?25l\u001b[?25hdone\n",
            "  Building wheel for yfinance (setup.py) ... \u001b[?25l\u001b[?25hdone\n",
            "\u001b[K     |████████████████████████████████| 96 kB 2.7 MB/s \n",
            "\u001b[?25h"
          ]
        }
      ],
      "source": [
        "!pip install qiskit --quiet\n",
        "!pip install qiskit_machine_learning --quiet"
      ]
    },
    {
      "cell_type": "code",
      "execution_count": 2,
      "metadata": {
        "colab": {
          "base_uri": "https://localhost:8080/"
        },
        "id": "odc1yPngpjft",
        "outputId": "46851216-fcfc-4609-93e3-c073df7c2744"
      },
      "outputs": [
        {
          "name": "stderr",
          "output_type": "stream",
          "text": [
            "/usr/local/lib/python3.7/dist-packages/qiskit/aqua/__init__.py:86: DeprecationWarning: The package qiskit.aqua is deprecated. It was moved/refactored to qiskit-terra For more information see <https://github.com/Qiskit/qiskit-aqua/blob/main/README.md#migration-guide>\n",
            "  warn_package('aqua', 'qiskit-terra')\n",
            "/usr/local/lib/python3.7/dist-packages/qiskit/ml/__init__.py:40: DeprecationWarning: The package qiskit.ml is deprecated. It was moved/refactored to qiskit_machine_learning (pip install qiskit-machine-learning). For more information see <https://github.com/Qiskit/qiskit-aqua/blob/main/README.md#migration-guide>\n",
            "  warn_package('ml', 'qiskit_machine_learning', 'qiskit-machine-learning')\n"
          ]
        }
      ],
      "source": [
        "#initialization\n",
        "import matplotlib.pyplot as plt\n",
        "%matplotlib inline\n",
        "import numpy as np\n",
        "import pandas as pd\n",
        "from tqdm import tqdm \n",
        "\n",
        "# importing Qiskit\n",
        "import qiskit\n",
        "from qiskit import IBMQ, Aer, BasicAer, Aer, QuantumCircuit, ClassicalRegister, QuantumRegister, execute\n",
        "from qiskit.providers.ibmq import least_busy\n",
        "from qiskit.quantum_info.operators import Operator\n",
        "from qiskit.ml.datasets import wine\n",
        "from qiskit.aqua import QuantumInstance, aqua_globals\n",
        "from qiskit.aqua.circuits import StateVectorCircuit\n",
        "from qiskit.aqua.algorithms import VQC\n",
        "from qiskit.aqua.components.optimizers import Optimizer, COBYLA, ADAM, AQGD \n",
        "from qiskit.aqua.utils.arithmetic import normalize_vector\n",
        "from qiskit.aqua.utils.circuit_utils import convert_to_basis_gates\n",
        "from qiskit.quantum_info import state_fidelity\n",
        "from qiskit.circuit.library import TwoLocal\n",
        "from qiskit.circuit import Parameter, ParameterVector, Instruction\n",
        "from qiskit.circuit.library import RealAmplitudes,ZFeatureMap, ZZFeatureMap, EfficientSU2, PauliFeatureMap\n",
        "from qiskit.opflow import StateFn, PauliSumOp, AerPauliExpectation, ListOp, Gradient\n",
        "from qiskit.utils import QuantumInstance\n",
        "\n",
        "# importing Qiskit Machine learning\n",
        "import qiskit_machine_learning\n",
        "from qiskit_machine_learning.neural_networks import OpflowQNN, CircuitQNN, TwoLayerQNN\n",
        "from qiskit_machine_learning.connectors import TorchConnector\n",
        "from qiskit_machine_learning.circuit.library import RawFeatureVector\n",
        "\n",
        "#import sklearn\n",
        "from sklearn import datasets\n",
        "from sklearn.model_selection import train_test_split\n",
        "from sklearn.preprocessing import StandardScaler, MinMaxScaler\n",
        "from sklearn.decomposition import PCA\n",
        "from sklearn.model_selection import train_test_split\n",
        "from sklearn.datasets import load_digits\n",
        "\n",
        "# import basic plot tools\n",
        "from qiskit.tools.visualization import plot_histogram\n",
        "\n",
        "import tensorflow as tf\n",
        "\n",
        "import torch\n",
        "from torch import Tensor, cat, no_grad, mul\n",
        "from torch.nn import Linear, CrossEntropyLoss, MSELoss, HingeEmbeddingLoss, MultiMarginLoss\n",
        "from torch.optim import LBFGS\n",
        "from torch.utils.data import DataLoader\n",
        "from torchvision import datasets, transforms\n",
        "import torch.optim as optim\n",
        "from torch.nn import (Module, Conv2d, Linear, Dropout2d, NLLLoss,\n",
        "                     MaxPool2d, Flatten, Sequential, ReLU)\n",
        "import torch.nn.functional as F\n",
        "\n",
        "import cv2"
      ]
    },
    {
      "cell_type": "code",
      "execution_count": 3,
      "metadata": {
        "id": "tD8PLiKAq2OM"
      },
      "outputs": [],
      "source": [
        "# set method to calculcate expected values\n",
        "expval = AerPauliExpectation()\n",
        "\n",
        "# define gradient method\n",
        "gradient = Gradient()\n",
        "\n",
        "# define quantum instances (statevector and sample based)\n",
        "qi_sv = QuantumInstance(Aer.get_backend('statevector_simulator'))\n",
        "\n",
        "# we set shots to 10 as this will determine the number of samples later on.\n",
        "qi_qasm = QuantumInstance(Aer.get_backend('qasm_simulator'), shots=10)"
      ]
    },
    {
      "cell_type": "code",
      "execution_count": 4,
      "metadata": {
        "id": "DJELzCPdq22K"
      },
      "outputs": [],
      "source": [
        "def PrepareState(states):\n",
        "    return normalize_vector(states)\n",
        "def filter_(x, y, c=(8,1)):\n",
        "    keep = (y == c[0]) | (y == c[1])\n",
        "    x, y = x[keep], y[keep]\n",
        "    y = y == c[0]\n",
        "    return 1*x,1*y\n",
        "def filter_81_200(x, y):\n",
        "    keep8 = (y == 8) \n",
        "    keep1 = (y == 1)\n",
        "    x8, y8 = x[keep8][:100], y[keep8][:100]\n",
        "    x1, y1 = x[keep1][:100], y[keep1][:100]\n",
        "    y8 = y8 == 1\n",
        "    y1 = y1 == 1\n",
        "    \n",
        "    x = np.concatenate((x8,x1))\n",
        "    y = np.concatenate((y8,y1))\n",
        "    return 1*x,1*y\n",
        "def convert_to_circuit(features):\n",
        "    states = PrepareState(features)\n",
        "    qc = QuantumCircuit(qr)\n",
        "    qc.initialize(states,[qr[i] for i in range(1,5)])\n",
        "    qc_basis = convert_to_basis_gates(qc)\n",
        "    return qc_basis"
      ]
    },
    {
      "cell_type": "code",
      "execution_count": 5,
      "metadata": {
        "colab": {
          "base_uri": "https://localhost:8080/"
        },
        "id": "7cruDxqiq24p",
        "outputId": "84930785-4c27-4575-b89e-7a35451cd472"
      },
      "outputs": [
        {
          "name": "stdout",
          "output_type": "stream",
          "text": [
            "Downloading data from https://storage.googleapis.com/tensorflow/tf-keras-datasets/mnist.npz\n",
            "11493376/11490434 [==============================] - 0s 0us/step\n",
            "11501568/11490434 [==============================] - 0s 0us/step\n",
            "Number of original training examples: 60000\n",
            "Number of original test examples: 60000\n"
          ]
        }
      ],
      "source": [
        "(x_train, y_train), (x_test, y_test) = tf.keras.datasets.mnist.load_data()\n",
        "\n",
        "# Rescale the images from [0,255] to the [0.0,1.0] range.\n",
        "x_train, x_test = x_train[..., np.newaxis]/255.0, x_test[..., np.newaxis]/255.0\n",
        "\"\"\n",
        "print(\"Number of original training examples:\", len(x_train))\n",
        "print(\"Number of original test examples:\", len(x_train))"
      ]
    },
    {
      "cell_type": "code",
      "execution_count": 6,
      "metadata": {
        "colab": {
          "base_uri": "https://localhost:8080/"
        },
        "id": "2dabBwiLq27M",
        "outputId": "e665588c-d337-4821-f031-bea8b474605c"
      },
      "outputs": [
        {
          "name": "stdout",
          "output_type": "stream",
          "text": [
            "Number of filtered training examples: 12049\n",
            "Number of filtered test examples: 1968\n"
          ]
        }
      ],
      "source": [
        "c = (3,6)\n",
        "x_train, y_train = filter_(x_train, y_train, c)\n",
        "x_test, y_test = filter_(x_test, y_test, c)\n",
        "\n",
        "print(\"Number of filtered training examples:\", len(x_train))\n",
        "print(\"Number of filtered test examples:\", len(x_test))"
      ]
    },
    {
      "cell_type": "code",
      "execution_count": 7,
      "metadata": {
        "colab": {
          "base_uri": "https://localhost:8080/",
          "height": 268
        },
        "id": "4IwaEFawq29p",
        "outputId": "e153180b-5678-4929-f3db-635ebfed3ae1"
      },
      "outputs": [
        {
          "data": {
            "image/png": "[encoded data removed]",
            "text/plain": [
              "<Figure size 432x288 with 9 Axes>"
            ]
          },
          "metadata": {
            "needs_background": "light"
          },
          "output_type": "display_data"
        }
      ],
      "source": [
        "for i in range(9):\n",
        "    plt.subplot(330 + 1 + i)\n",
        "    plt.imshow(x_train[i].reshape(28,28),cmap='gray')\n",
        "plt.show()"
      ]
    },
    {
      "cell_type": "code",
      "execution_count": 8,
      "metadata": {
        "colab": {
          "base_uri": "https://localhost:8080/"
        },
        "id": "M7s4lIaeq3AR",
        "outputId": "e0a99db8-6e09-4d8b-ac93-d9145fb44c71"
      },
      "outputs": [
        {
          "name": "stdout",
          "output_type": "stream",
          "text": [
            "(16,)\n",
            "(16,)\n"
          ]
        }
      ],
      "source": [
        "imsize = 16\n",
        "X_train = np.array([ cv2.resize(x, (np.sqrt(imsize).astype(np.int64)\\\n",
        "                                    ,np.sqrt(imsize).astype(np.int64)))\\\n",
        "                    .reshape(imsize,) for x in x_train])\n",
        "X_test = np.array([ cv2.resize(x, (np.sqrt(imsize).astype(np.int64)\\\n",
        "                                   ,np.sqrt(imsize).astype(np.int64)))\\\n",
        "                   .reshape(imsize,) for x in x_test])\n",
        "\n",
        "print(X_train[0].shape)\n",
        "print(X_test[0].shape)"
      ]
    },
    {
      "cell_type": "code",
      "execution_count": 9,
      "metadata": {
        "id": "hSaSxakn0AIS"
      },
      "outputs": [],
      "source": [
        "import collections\n",
        "def remove_contradicting(xs, ys):\n",
        "    mapping = collections.defaultdict(set)\n",
        "    orig_x = {}\n",
        "    # Determine the set of labels for each unique image:\n",
        "    for x,y in zip(xs,ys):\n",
        "       orig_x[tuple(x.flatten())] = x\n",
        "       mapping[tuple(x.flatten())].add(y)\n",
        "\n",
        "    new_x = []\n",
        "    new_y = []\n",
        "    for flatten_x in mapping:\n",
        "      x = orig_x[flatten_x]\n",
        "      labels = mapping[flatten_x]\n",
        "      if len(labels) == 1:\n",
        "          new_x.append(x)\n",
        "          new_y.append(next(iter(labels)))\n",
        "      else:\n",
        "          # Throw out images that match more than one label.\n",
        "          pass\n",
        "\n",
        "    num_uniq_8 = sum(1 for value in mapping.values() if len(value) == 1 and True in value)\n",
        "    num_uniq_1 = sum(1 for value in mapping.values() if len(value) == 1 and False in value)\n",
        "    num_uniq_both = sum(1 for value in mapping.values() if len(value) == 2)\n",
        "\n",
        "    print(\"Number of unique images:\", len(mapping.values()))\n",
        "    print(\"Number of unique 8s: \", num_uniq_8)\n",
        "    print(\"Number of unique 1s: \", num_uniq_1)\n",
        "    print(\"Number of unique contradicting labels (both 8 and 1): \", num_uniq_both)\n",
        "    print()\n",
        "    print(\"Initial number of images: \", len(xs))\n",
        "    print(\"Remaining non-contradicting unique images: \", len(new_x))\n",
        "\n",
        "    return np.array(new_x), np.array(new_y)"
      ]
    },
    {
      "cell_type": "code",
      "execution_count": 10,
      "metadata": {
        "colab": {
          "base_uri": "https://localhost:8080/"
        },
        "id": "BacokfhU0Bxg",
        "outputId": "89c6150a-5125-449a-c67c-affa83cb973a"
      },
      "outputs": [
        {
          "name": "stdout",
          "output_type": "stream",
          "text": [
            "Number of unique images: 10387\n",
            "Number of unique 8s:  4912\n",
            "Number of unique 1s:  5426\n",
            "Number of unique contradicting labels (both 8 and 1):  49\n",
            "\n",
            "Initial number of images:  12049\n",
            "Remaining non-contradicting unique images:  10338\n"
          ]
        }
      ],
      "source": [
        "x_train_nocon, y_train_nocon = remove_contradicting(X_train, y_train)"
      ]
    },
    {
      "cell_type": "code",
      "execution_count": 11,
      "metadata": {
        "id": "cONlppRA1TWe"
      },
      "outputs": [],
      "source": [
        "THRESHOLD = 0.5\n",
        "\n",
        "x_train_bin = np.array(x_train_nocon > THRESHOLD, dtype=np.float32)\n",
        "x_test_bin = np.array(X_test > THRESHOLD, dtype=np.float32)"
      ]
    },
    {
      "cell_type": "code",
      "execution_count": 12,
      "metadata": {
        "colab": {
          "base_uri": "https://localhost:8080/"
        },
        "id": "qzNBdFBR1lVg",
        "outputId": "25e190a5-dfc0-45b6-abae-772463fa2ee5"
      },
      "outputs": [
        {
          "name": "stdout",
          "output_type": "stream",
          "text": [
            "Number of unique images: 193\n",
            "Number of unique 8s:  80\n",
            "Number of unique 1s:  69\n",
            "Number of unique contradicting labels (both 8 and 1):  44\n",
            "\n",
            "Initial number of images:  10338\n",
            "Remaining non-contradicting unique images:  149\n"
          ]
        }
      ],
      "source": [
        "_ = remove_contradicting(x_train_bin, y_train_nocon)"
      ]
    },
    {
      "cell_type": "code",
      "execution_count": 13,
      "metadata": {
        "colab": {
          "base_uri": "https://localhost:8080/",
          "height": 200
        },
        "id": "tJEAwCb81qxf",
        "outputId": "ddd9c6a8-3cf5-462a-f40b-5efd8d7b4e47"
      },
      "outputs": [
        {
          "data": {
            "image/png": "[encoded data removed]",
            "text/plain": [
              "<Figure size 432x288 with 2 Axes>"
            ]
          },
          "metadata": {
            "needs_background": "light"
          },
          "output_type": "display_data"
        }
      ],
      "source": [
        "plt.subplot(121)\n",
        "plt.imshow(x_train_bin[y_train_nocon==0][7].reshape(np.sqrt(imsize).astype(np.int64)\\\n",
        "                                  ,np.sqrt(imsize).astype(np.int64)\\\n",
        "                                  ),cmap='gray')\n",
        "plt.subplot(122)\n",
        "plt.imshow(x_train_bin[y_train_nocon==0][0].reshape(np.sqrt(imsize).astype(np.int64)\\\n",
        "                                  ,np.sqrt(imsize).astype(np.int64)\\\n",
        "                                  ),cmap='gray')\n",
        "plt.show()"
      ]
    },
    {
      "cell_type": "code",
      "execution_count": 14,
      "metadata": {
        "colab": {
          "base_uri": "https://localhost:8080/"
        },
        "id": "9OpItHg00Jka",
        "outputId": "598b1ca0-0e49-4693-a219-41f87c31ed6b"
      },
      "outputs": [
        {
          "data": {
            "text/plain": [
              "(12049, 16)"
            ]
          },
          "execution_count": 14,
          "metadata": {},
          "output_type": "execute_result"
        }
      ],
      "source": [
        "X_train.shape"
      ]
    },
    {
      "cell_type": "code",
      "execution_count": 15,
      "metadata": {
        "colab": {
          "base_uri": "https://localhost:8080/"
        },
        "id": "OxZfslP23lF6",
        "outputId": "3f1682fb-997b-4673-cad4-7b26140e58f5"
      },
      "outputs": [
        {
          "data": {
            "text/plain": [
              "array([[0., 0., 0., ..., 1., 0., 0.],\n",
              "       [0., 0., 0., ..., 0., 0., 0.],\n",
              "       [0., 0., 0., ..., 1., 0., 0.],\n",
              "       ...,\n",
              "       [0., 0., 0., ..., 0., 0., 0.],\n",
              "       [0., 0., 0., ..., 0., 0., 0.],\n",
              "       [0., 0., 0., ..., 0., 0., 0.]], dtype=float32)"
            ]
          },
          "execution_count": 15,
          "metadata": {},
          "output_type": "execute_result"
        }
      ],
      "source": [
        "x_train_bin"
      ]
    },
    {
      "cell_type": "code",
      "execution_count": 17,
      "metadata": {
        "colab": {
          "base_uri": "https://localhost:8080/"
        },
        "id": "PjTOYjDp0HuS",
        "outputId": "b6b18621-4eda-47e7-f0bd-32e48f0941db"
      },
      "outputs": [
        {
          "data": {
            "text/plain": [
              "(10338, 16)"
            ]
          },
          "execution_count": 17,
          "metadata": {},
          "output_type": "execute_result"
        }
      ],
      "source": [
        "x_train_nocon.shape"
      ]
    },
    {
      "cell_type": "code",
      "execution_count": 18,
      "metadata": {
        "id": "ae46f3e2-91d0-4267-9ef1-40b0183fba02"
      },
      "outputs": [],
      "source": [
        "X_train = torch.from_numpy(x_train_bin)\n",
        "X_test = torch.from_numpy(x_test_bin)\n",
        "y_train = torch.from_numpy(np.array(y_train_nocon))\n",
        "y_test = torch.from_numpy(np.array(y_test))"
      ]
    },
    {
      "cell_type": "code",
      "execution_count": 19,
      "metadata": {
        "colab": {
          "base_uri": "https://localhost:8080/",
          "height": 265
        },
        "id": "51fcb7c6-7807-4be9-be77-b8c05c0b0642",
        "outputId": "2a2c7649-a2a6-4dd8-e9d8-ea213d7579d9"
      },
      "outputs": [
        {
          "data": {
            "image/png": "[encoded data removed]",
            "text/plain": [
              "<Figure size 432x288 with 9 Axes>"
            ]
          },
          "metadata": {
            "needs_background": "light"
          },
          "output_type": "display_data"
        }
      ],
      "source": [
        "for i in range(9):\n",
        "    plt.subplot(330 + 1 + i)\n",
        "    plt.imshow(X_train[i].reshape(np.sqrt(imsize).astype(np.int64)\\\n",
        "                                  ,np.sqrt(imsize).astype(np.int64)\\\n",
        "                                  ),cmap='gray')\n",
        "plt.show()"
      ]
    },
    {
      "cell_type": "code",
      "execution_count": 20,
      "metadata": {
        "colab": {
          "base_uri": "https://localhost:8080/"
        },
        "id": "b21c0ad1-096a-44cd-b37e-b6ccccb5f116",
        "outputId": "31cef5fc-3658-4da2-fd66-f11f4633bc18"
      },
      "outputs": [
        {
          "name": "stdout",
          "output_type": "stream",
          "text": [
            "label 3 shape: torch.Size([10338, 16])\n",
            "label 6 shape: torch.Size([10338, 16]) \n"
          ]
        }
      ],
      "source": [
        "print('label 3 shape: {}\\nlabel 6 shape: {} '.format(X_train.shape,X_train.shape))"
      ]
    },
    {
      "cell_type": "code",
      "execution_count": 21,
      "metadata": {
        "id": "6507b6dd-9645-465a-99bb-314404116da4"
      },
      "outputs": [],
      "source": [
        "parity = lambda x: '{:b}'.format(x).count('1') % 2\n",
        "output_shape = 2  # parity = 0, 1"
      ]
    },
    {
      "cell_type": "code",
      "execution_count": 24,
      "metadata": {
        "id": "5JyHW5x5r6dl"
      },
      "outputs": [],
      "source": [
        "inputs = [Parameter(f'p{x+1}') for x in range(16)]\n",
        "weights = [Parameter(f'x{x+1}') for x in range(32)]"
      ]
    },
    {
      "cell_type": "code",
      "execution_count": 25,
      "metadata": {
        "id": "rZb3Zmcir670"
      },
      "outputs": [],
      "source": [
        "def ansatz_init(weights):\n",
        "    ansatz = QuantumCircuit(17)\n",
        "    ansatz.x(0)\n",
        "    ansatz.h(0)\n",
        "      # Rxx\n",
        "    for i in range(32//2):\n",
        "        ansatz.rxx(weights[i],i+1,0) \n",
        "      # Rzz\n",
        "    j = 1\n",
        "    for i in range(32//2,32,1):\n",
        "        ansatz.rzz(weights[i],j,0) \n",
        "        j = j+1\n",
        "    ansatz.h(0)\n",
        "    return ansatz"
      ]
    },
    {
      "cell_type": "code",
      "execution_count": 26,
      "metadata": {
        "colab": {
          "base_uri": "https://localhost:8080/"
        },
        "id": "odQGl8_H4_cX",
        "outputId": "62ceecd5-3126-458e-d0e0-ae6065f028c5"
      },
      "outputs": [
        {
          "data": {
            "text/plain": [
              "tensor([[0., 0., 0.,  ..., 1., 0., 0.],\n",
              "        [0., 0., 0.,  ..., 0., 0., 0.],\n",
              "        [0., 0., 0.,  ..., 1., 0., 0.],\n",
              "        ...,\n",
              "        [0., 0., 0.,  ..., 0., 0., 0.],\n",
              "        [0., 0., 0.,  ..., 0., 0., 0.],\n",
              "        [0., 0., 0.,  ..., 0., 0., 0.]])"
            ]
          },
          "execution_count": 26,
          "metadata": {},
          "output_type": "execute_result"
        }
      ],
      "source": [
        "X_train"
      ]
    },
    {
      "cell_type": "code",
      "execution_count": 27,
      "metadata": {
        "colab": {
          "base_uri": "https://localhost:8080/"
        },
        "id": "WuLdAJ8X8Pal",
        "outputId": "016a699b-fe28-4e1c-94b6-4921212d3352"
      },
      "outputs": [
        {
          "name": "stderr",
          "output_type": "stream",
          "text": [
            "/usr/local/lib/python3.7/dist-packages/ipykernel_launcher.py:4: DeprecationWarning: The QuantumCircuit.__iadd__() method is being deprecated. Use the compose() (potentially with the inplace=True argument) and tensor() methods which are more flexible w.r.t circuit register compatibility.\n",
            "  after removing the cwd from sys.path.\n",
            "/usr/local/lib/python3.7/dist-packages/qiskit/circuit/quantumcircuit.py:942: DeprecationWarning: The QuantumCircuit.extend() method is being deprecated. Use the compose() (potentially with the inplace=True argument) and tensor() methods which are more flexible w.r.t circuit register compatibility.\n",
            "  return self.extend(rhs)\n"
          ]
        }
      ],
      "source": [
        "qc = QuantumCircuit(17)\n",
        "for i in range(16):\n",
        "  qc.ry(np.pi*inputs[i], i+1)\n",
        "qc+=ansatz_init(weights)\n",
        "\n",
        "qc_sfn = StateFn(qc)\n",
        "# construct cost operator\n",
        "H = StateFn(PauliSumOp.from_list([('ZIIIIIIIIIIIIIIII', 1.0)]))\n",
        "\n",
        "# combine operator and circuit to objective function\n",
        "op = ~H @ qc_sfn\n",
        "\n",
        "qnn = OpflowQNN(operator = op, input_params = inputs, weight_params = weights, exp_val = expval, gradient = gradient, quantum_instance = qi_qasm, input_gradients=True)"
      ]
    },
    {
      "cell_type": "code",
      "execution_count": 28,
      "metadata": {
        "id": "DoOoSbR4-3vM"
      },
      "outputs": [],
      "source": [
        "from qiskit.utils import algorithm_globals"
      ]
    },
    {
      "cell_type": "code",
      "execution_count": 29,
      "metadata": {
        "id": "Y4PBkmsC-R5t"
      },
      "outputs": [],
      "source": [
        "algorithm_globals.massive=True "
      ]
    },
    {
      "cell_type": "code",
      "execution_count": 30,
      "metadata": {
        "colab": {
          "base_uri": "https://localhost:8080/"
        },
        "id": "J4nxEACM-A-h",
        "outputId": "1d3e0bb6-8727-4605-add2-448a04866376"
      },
      "outputs": [
        {
          "data": {
            "text/plain": [
              "1"
            ]
          },
          "execution_count": 30,
          "metadata": {},
          "output_type": "execute_result"
        }
      ],
      "source": [
        "torch.get_num_threads()"
      ]
    },
    {
      "cell_type": "code",
      "execution_count": 38,
      "metadata": {
        "id": "t8SI_l6UsSz2"
      },
      "outputs": [],
      "source": [
        "batch_size = 32\n",
        "dataset = torch.utils.data.TensorDataset(X_train, y_train)\n",
        "train_loader = DataLoader(dataset, batch_size=batch_size, shuffle=True)\n",
        "total = len(train_loader)"
      ]
    },
    {
      "cell_type": "code",
      "execution_count": 31,
      "metadata": {
        "id": "mXdzdytBPN4P"
      },
      "outputs": [],
      "source": [
        "np.random.seed(10)\n",
        "initial_weights = 0.1*(2*np.random.rand(qnn.num_weights) - 1)\n",
        "model1 = TorchConnector(qnn, initial_weights=initial_weights)"
      ]
    },
    {
      "cell_type": "code",
      "execution_count": 35,
      "metadata": {
        "id": "sQR8ieA6sLkO"
      },
      "outputs": [],
      "source": [
        "class HingeLoss(torch.nn.Module):\n",
        "\n",
        "    def __init__(self):\n",
        "        super(HingeLoss, self).__init__()\n",
        "        self.relu = torch.nn.ReLU()\n",
        "\n",
        "    def forward(self, output, target):\n",
        "        all_ones = torch.ones_like(target)\n",
        "        labels = 2 * target - all_ones\n",
        "        losses = all_ones - torch.mul(output, labels)\n",
        "\n",
        "        return torch.norm(self.relu(losses))"
      ]
    },
    {
      "cell_type": "code",
      "execution_count": 39,
      "metadata": {
        "id": "zx6D9GeHJXjB"
      },
      "outputs": [],
      "source": [
        "def train_model(model):\n",
        "    # define model, optimizer, and loss function\n",
        "    optimizer = optim.Adam(model.parameters())\n",
        "    loss_func = HingeLoss()\n",
        "\n",
        "    # start training\n",
        "    epochs = 4     # set number of epochs\n",
        "    loss_list = []  # store loss history\n",
        "    model.train()  # set model to training mode\n",
        "    for epoch in range(epochs):\n",
        "        total_loss = []\n",
        "        with tqdm(total=total) as pbar:\n",
        "            for batch_idx, (data, target) in enumerate(train_loader):\n",
        "              pbar.update(1)\n",
        "              optimizer.zero_grad(set_to_none=True)  # initialize gradient\n",
        "              \n",
        "              output = model(data)        # forward pass\n",
        "              loss = loss_func(output, target)       # calculate loss\n",
        "              loss.backward()                        # backward pass\n",
        "              optimizer.step()                       # optimize weights\n",
        "              total_loss.append(loss.item())         # store loss\n",
        "\n",
        "        loss_list.append(sum(total_loss)/len(total_loss))\n",
        "        print('Training [{:.0f}%]\\tLoss: {:.4f}'.format(\n",
        "              100. * (epoch + 1) / epochs, loss_list[-1]))\n",
        "    return model, loss_list"
      ]
    },
    {
      "cell_type": "code",
      "execution_count": null,
      "metadata": {
        "colab": {
          "base_uri": "https://localhost:8080/"
        },
        "id": "YgJ6AF3kJdXI",
        "outputId": "a06dba1d-5b34-4793-9cf9-23fab5c24682"
      },
      "outputs": [
        {
          "name": "stderr",
          "output_type": "stream",
          "text": [
            "  1%|          | 4/324 [05:12<7:19:23, 82.39s/it]"
          ]
        }
      ],
      "source": [
        "%%time\n",
        "model, loss = train_model(model1)"
      ]
    }
  ],
  "metadata": {
    "colab": {
      "name": "qiskit_experiment_16qubit.ipynb",
      "provenance": []
    },
    "kernelspec": {
      "display_name": "Python 3",
      "name": "python3"
    },
    "language_info": {
      "name": "python"
    }
  },
  "nbformat": 4,
  "nbformat_minor": 0
}
